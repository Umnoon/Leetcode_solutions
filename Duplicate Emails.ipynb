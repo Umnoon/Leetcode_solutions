{
 "cells": [
  {
   "cell_type": "code",
   "execution_count": null,
   "metadata": {},
   "outputs": [],
   "source": [
    "# Table: Person\n",
    "\n",
    "# +-------------+---------+\n",
    "# | Column Name | Type    |\n",
    "# +-------------+---------+\n",
    "# | id          | int     |\n",
    "# | email       | varchar |\n",
    "# +-------------+---------+\n",
    "# id is the primary key (column with unique values) for this table.\n",
    "# Each row of this table contains an email. The emails will not contain uppercase letters.\n",
    " \n",
    "\n",
    "# Write a solution to report all the duplicate emails. Note that it's guaranteed that the email field is not NULL.\n",
    "\n",
    "# Return the result table in any order.\n",
    "\n",
    "# The result format is in the following example.\n",
    "\n",
    " \n",
    "\n",
    "# Example 1:\n",
    "\n",
    "# Input: \n",
    "# Person table:\n",
    "# +----+---------+\n",
    "# | id | email   |\n",
    "# +----+---------+\n",
    "# | 1  | a@b.com |\n",
    "# | 2  | c@d.com |\n",
    "# | 3  | a@b.com |\n",
    "# +----+---------+\n",
    "# Output: \n",
    "# +---------+\n",
    "# | Email   |\n",
    "# +---------+\n",
    "# | a@b.com |\n",
    "# +---------+\n",
    "# Explanation: a@b.com is repeated two times.\n",
    "\n",
    "\n",
    "import pandas as pd\n",
    "\n",
    "def duplicate_emails(person: pd.DataFrame) -> pd.DataFrame:\n",
    "    result_df = person[person.duplicated(subset='email', keep='last')][['email']].drop_duplicates()\n",
    "    result_df = result_df.rename(columns = {'email': 'Email'})\n",
    "\n",
    "    return result_df"
   ]
  }
 ],
 "metadata": {
  "language_info": {
   "name": "python"
  }
 },
 "nbformat": 4,
 "nbformat_minor": 2
}
