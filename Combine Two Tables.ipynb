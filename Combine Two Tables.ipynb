{
 "cells": [
  {
   "cell_type": "code",
   "execution_count": null,
   "metadata": {},
   "outputs": [],
   "source": [
    "# Table: Person\n",
    "\n",
    "# +-------------+---------+\n",
    "# | Column Name | Type    |\n",
    "# +-------------+---------+\n",
    "# | personId    | int     |\n",
    "# | lastName    | varchar |\n",
    "# | firstName   | varchar |\n",
    "# +-------------+---------+\n",
    "# personId is the primary key (column with unique values) for this table.\n",
    "# This table contains information about the ID of some persons and their first and last names.\n",
    " \n",
    "\n",
    "# Table: Address\n",
    "\n",
    "# +-------------+---------+\n",
    "# | Column Name | Type    |\n",
    "# +-------------+---------+\n",
    "# | addressId   | int     |\n",
    "# | personId    | int     |\n",
    "# | city        | varchar |\n",
    "# | state       | varchar |\n",
    "# +-------------+---------+\n",
    "# addressId is the primary key (column with unique values) for this table.\n",
    "# Each row of this table contains information about the city and state of one person with ID = PersonId.\n",
    " \n",
    "\n",
    "# Write a solution to report the first name, last name, city, and state of each person in the Person table. If the address of a personId is not present in the Address table, report null instead.\n",
    "\n",
    "# Return the result table in any order.\n",
    "\n",
    "# The result format is in the following example.\n",
    "\n",
    "\n",
    "\n",
    "\n",
    "import pandas as pd\n",
    "\n",
    "def combine_two_tables(person: pd.DataFrame, address: pd.DataFrame) -> pd.DataFrame:\n",
    "    result_df = pd.merge(person, address, on = 'personId', how = 'left')\n",
    "    result_df = result_df[['firstName', 'lastName', 'city', 'state']]\n",
    "\n",
    "    return result_df"
   ]
  }
 ],
 "metadata": {
  "language_info": {
   "name": "python"
  }
 },
 "nbformat": 4,
 "nbformat_minor": 2
}
