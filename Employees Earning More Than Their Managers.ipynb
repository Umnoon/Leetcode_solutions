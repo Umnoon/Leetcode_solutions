{
 "cells": [
  {
   "cell_type": "code",
   "execution_count": null,
   "metadata": {},
   "outputs": [],
   "source": [
    "# Table: Employee\n",
    "\n",
    "# +-------------+---------+\n",
    "# | Column Name | Type    |\n",
    "# +-------------+---------+\n",
    "# | id          | int     |\n",
    "# | name        | varchar |\n",
    "# | salary      | int     |\n",
    "# | managerId   | int     |\n",
    "# +-------------+---------+\n",
    "# id is the primary key (column with unique values) for this table.\n",
    "# Each row of this table indicates the ID of an employee, their name, salary, and the ID of their manager.\n",
    " \n",
    "\n",
    "# Write a solution to find the employees who earn more than their managers.\n",
    "\n",
    "# Return the result table in any order.\n",
    "\n",
    "\n",
    "import pandas as pd\n",
    "\n",
    "def find_employees(employee: pd.DataFrame) -> pd.DataFrame:\n",
    "    result_df = employee[employee['salary'] > employee['managerId'].map(employee.set_index('id')['salary'])]\n",
    "    result_df = result_df[['name']].rename(columns={'name':'Employee'})\n",
    "\n",
    "    return result_df"
   ]
  }
 ],
 "metadata": {
  "language_info": {
   "name": "python"
  }
 },
 "nbformat": 4,
 "nbformat_minor": 2
}
